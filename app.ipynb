{
 "cells": [
  {
   "cell_type": "markdown",
   "id": "a9b11b1f",
   "metadata": {},
   "source": [
    "# Line ratio to physical property converter\n",
    "Created by: Karen Pardos Olsen, 2021"
   ]
  },
  {
   "cell_type": "code",
   "execution_count": 1,
   "id": "5c6c0881",
   "metadata": {},
   "outputs": [],
   "source": [
    "import ipywidgets as widgets\n",
    "from IPython.display import Image, display, clear_output"
   ]
  },
  {
   "cell_type": "code",
   "execution_count": 10,
   "id": "929cff3f",
   "metadata": {},
   "outputs": [],
   "source": [
    "# !jupyter nbextension enable --py widgetsnbextension --sys-prefix\n",
    "# !jupyter serverextension enable voila --sys-prefix"
   ]
  },
  {
   "cell_type": "code",
   "execution_count": 11,
   "id": "36738dfe",
   "metadata": {},
   "outputs": [],
   "source": [
    "# Select first line ratio\n",
    "\n",
    "button1 = widgets.ToggleButtons(\n",
    "    options=['[NII]122/[NII]205','']\n",
    "#     value=False,\n",
    "#     description='First line ratio'\n",
    ")\n",
    "\n",
    "button2 = widgets.ToggleButtons(\n",
    "    options=['[OIII]88/[CII]158','']\n",
    "#     value=False,\n",
    "#     description='Second line ratio'\n",
    ")"
   ]
  },
  {
   "cell_type": "code",
   "execution_count": 12,
   "id": "8a1a5dfd",
   "metadata": {},
   "outputs": [],
   "source": [
    "# [NII]122/205 ratio\n",
    "\n",
    "r1 = widgets.BoundedFloatText(\n",
    "    value=0.3,\n",
    "    min=-0.2,\n",
    "    max=0.7,\n",
    "    step=0.2,\n",
    "    description='log(value):',\n",
    "    disabled=False\n",
    ")\n",
    "\n",
    "r2 = widgets.BoundedFloatText(\n",
    "    value=1,\n",
    "    min=-3,\n",
    "    max=2,\n",
    "    step=0.2,\n",
    "    description='log(value):',\n",
    "    disabled=False\n",
    ")"
   ]
  },
  {
   "cell_type": "code",
   "execution_count": 13,
   "id": "5c2a0701",
   "metadata": {},
   "outputs": [],
   "source": [
    "# Add contour plot\n",
    "\n",
    "def plot_contour_map(r1v,r2v):\n",
    "\n",
    "    image_found = False\n",
    "    if (r1v == '[NII]122/[NII]205') & (r2v == '[OIII]88/[CII]158'):    \n",
    "        print(r1v,r2v)\n",
    "        \n",
    "        path1 = 'plots/[NII]122__[NII]205_vs_[OIII]88__[CII]158_map_ne_mw_HII.png'\n",
    "        path2 = 'plots/[NII]122__[NII]205_vs_[OIII]88__[CII]158_map_Pe_mw.png'\n",
    "        image_found = True\n",
    "\n",
    "    if image_found: \n",
    "        display(Image(filename=path1,width=600))\n",
    "        display(Image(filename=path2,width=600))        "
   ]
  },
  {
   "cell_type": "code",
   "execution_count": 14,
   "id": "64f17176",
   "metadata": {},
   "outputs": [],
   "source": [
    "# button calculate\n",
    "\n",
    "button_calc = widgets.Button(\n",
    "                description='Calculate',\n",
    "                tooltip='Send',\n",
    "                style={'description_width': 'initial'}\n",
    "            )\n",
    "\n",
    "output = widgets.Output()\n",
    "\n",
    "def on_button_clicked(event):\n",
    "    with output:\n",
    "        clear_output()\n",
    "        print(f\"{button1.value} line ratio received: {r1.value}\")\n",
    "        print(f\"{button2.value} line ratio received: {r2.value}\")\n",
    "        print(f\"Estimated electron density: ?? cm$^3$\")\n",
    "#         print(f\"Estimated electron density: {date.ne} cm3\")\n",
    "#         print(f\"Estimated electron density: {date.ne} cm3\")\n",
    "#         print(f\"Estimated electron density: {date.ne} cm3\")\n",
    "        plot_contour_map(button1.value,button2.value)\n",
    "\n",
    "button_calc.on_click(on_button_clicked)\n",
    "\n",
    "vbox_result = widgets.VBox([button_calc, output])"
   ]
  },
  {
   "cell_type": "code",
   "execution_count": 15,
   "id": "900fefbd",
   "metadata": {},
   "outputs": [],
   "source": [
    "# stacked text right hand side\n",
    "\n",
    "text_0 = widgets.HTML(value=\"<h1>Physical properties of the ionized ISM</h1>\")\n",
    "text_1 = widgets.HTML(value=\"<h2>Select first line ratio</h2>\")\n",
    "text_2 = widgets.HTML(value=\"<h2>Select second line ratio</h2>\")\n",
    "text_3= widgets.HTML(value=\"<h2>Derived physical properties </h2>\")\n",
    "\n",
    "vbox_text = widgets.VBox([text_0, text_1, button1, r1, text_2, button2, r2, text_3, vbox_result])\n"
   ]
  },
  {
   "cell_type": "code",
   "execution_count": 16,
   "id": "0293f9a1",
   "metadata": {
    "scrolled": false
   },
   "outputs": [
    {
     "data": {
      "application/vnd.jupyter.widget-view+json": {
       "model_id": "ed0e7bee0f574763ac6744ca8291920c",
       "version_major": 2,
       "version_minor": 0
      },
      "text/plain": [
       "HBox(children=(VBox(children=(HTML(value='<h1>Physical properties of the ionized ISM</h1>'), HTML(value='<h2>S…"
      ]
     },
     "metadata": {},
     "output_type": "display_data"
    }
   ],
   "source": [
    "# Headline\n",
    "\n",
    "label_headline = widgets.Label(\n",
    "                    value = 'Contour plot for two line ratios',\n",
    "                    style = {'description_width':'initial'},\n",
    "                )\n",
    "\n",
    "vbox_headline = widgets.VBox([label_headline])\n",
    "page = widgets.HBox([vbox_text])\n",
    "display(page)"
   ]
  },
  {
   "cell_type": "code",
   "execution_count": 17,
   "id": "d1b7f51c",
   "metadata": {},
   "outputs": [],
   "source": [
    "!pip freeze > requirements_full.txt"
   ]
  },
  {
   "cell_type": "code",
   "execution_count": null,
   "id": "a38d676b",
   "metadata": {},
   "outputs": [],
   "source": []
  }
 ],
 "metadata": {
  "kernelspec": {
   "display_name": "Python 3",
   "language": "python",
   "name": "python3"
  },
  "language_info": {
   "codemirror_mode": {
    "name": "ipython",
    "version": 3
   },
   "file_extension": ".py",
   "mimetype": "text/x-python",
   "name": "python",
   "nbconvert_exporter": "python",
   "pygments_lexer": "ipython3",
   "version": "3.8.8"
  }
 },
 "nbformat": 4,
 "nbformat_minor": 5
}
